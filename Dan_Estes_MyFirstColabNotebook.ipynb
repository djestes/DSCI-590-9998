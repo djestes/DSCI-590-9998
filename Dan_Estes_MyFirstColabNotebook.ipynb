{
  "nbformat": 4,
  "nbformat_minor": 0,
  "metadata": {
    "colab": {
      "provenance": [],
      "authorship_tag": "ABX9TyOkZEHFscuwdbD5HET3uI6Z",
      "include_colab_link": true
    },
    "kernelspec": {
      "name": "python3",
      "display_name": "Python 3"
    },
    "language_info": {
      "name": "python"
    }
  },
  "cells": [
    {
      "cell_type": "markdown",
      "metadata": {
        "id": "view-in-github",
        "colab_type": "text"
      },
      "source": [
        "<a href=\"https://colab.research.google.com/github/djestes/DSCI-590-9998/blob/main/Dan_Estes_MyFirstColabNotebook.ipynb\" target=\"_parent\"><img src=\"https://colab.research.google.com/assets/colab-badge.svg\" alt=\"Open In Colab\"/></a>"
      ]
    },
    {
      "cell_type": "markdown",
      "source": [
        "Dan Estes\n",
        "\n",
        "FA24-BL-DSCI-D590-9998\n",
        "\n",
        "Week 1 Coding Practice Colab - Working with Google Colab"
      ],
      "metadata": {
        "id": "DTCiO4ToZz4d"
      }
    },
    {
      "cell_type": "code",
      "execution_count": null,
      "metadata": {
        "colab": {
          "base_uri": "https://localhost:8080/"
        },
        "id": "oLv06ZLuZPzV",
        "outputId": "47b52d67-1fdf-45dd-ab64-1152b59022e0"
      },
      "outputs": [
        {
          "output_type": "stream",
          "name": "stdout",
          "text": [
            "Tue Aug 27 19:57:15 2024\n"
          ]
        }
      ],
      "source": [
        "import time\n",
        "print(time.ctime())\n"
      ]
    },
    {
      "cell_type": "code",
      "source": [
        "time.sleep(5)\n",
        "print (time.ctime())\n"
      ],
      "metadata": {
        "colab": {
          "base_uri": "https://localhost:8080/"
        },
        "id": "GXIKs0tTaK9h",
        "outputId": "4f299a05-adfd-4fc2-8b5d-6175b752fc36"
      },
      "execution_count": null,
      "outputs": [
        {
          "output_type": "stream",
          "name": "stdout",
          "text": [
            "Tue Aug 27 19:57:20 2024\n"
          ]
        }
      ]
    },
    {
      "cell_type": "markdown",
      "source": [
        "This is **bold**.\n",
        "This is *italic*.\n",
        "This is ~strikethrough~."
      ],
      "metadata": {
        "id": "7XaVznoUa5ay"
      }
    },
    {
      "cell_type": "markdown",
      "source": [
        "$\\sqrt{3x-1}+(1+x)^2$"
      ],
      "metadata": {
        "id": "q6E-lfZ0bDFQ"
      }
    },
    {
      "cell_type": "markdown",
      "source": [
        "$e^x=\\sum_{i=0}^\\infty \\frac{1}{i!}x^i$"
      ],
      "metadata": {
        "id": "OTLFeZuNbJlt"
      }
    },
    {
      "cell_type": "markdown",
      "source": [
        "Constraints are\n",
        " - $3x_1 + 6x_2 + x_3 =< 28$\n",
        " - $7x_1 + 3x_2 + 2x_3 =< 37$\n",
        " - $4x_1 + 5x_2 + 2x_3 =< 19$\n",
        " - $x_1,x_2,x_3 >=0 $\n",
        "\n",
        "The trial vector is calculated as follows:\n",
        "- $u_i(t) = x_i(t) + \\beta(\\hat{x}(t) − x_i(t)) + \\beta \\sum_{k = 1}^{n\n",
        " _v}(x_{i1,k}(t) − x_{i2,k}(t))$\n",
        "\n",
        " $f(x_1, x_2) = 20 + e - 20exp(-0.2 \\sqrt {\\frac {1}{n} (x_1^2 + x_2^2)}) - exp\n",
        "(\\frac {1}{n}(cos(2\\pi x_1) + cos(2\\pi x_2))$\n",
        "$x ∈ [-5, 5]$\n",
        ">$A_{m,n} =\n",
        "\\begin{pmatrix}\n",
        " a_{1,1} & a_{1,2} & \\cdots & a_{1,n} \\\\\n",
        " a_{2,1} & a_{2,2} & \\cdots & a_{2,n} \\\\\n",
        " \\vdots & \\vdots & \\ddots & \\vdots \\\\\n",
        " a_{m,1} & a_{m,2} & \\cdots & a_{m,n}\n",
        "\\end{pmatrix}$"
      ],
      "metadata": {
        "id": "TdoP5f8LbQQt"
      }
    },
    {
      "cell_type": "code",
      "source": [],
      "metadata": {
        "id": "APEAE2SebW1d"
      },
      "execution_count": null,
      "outputs": []
    },
    {
      "cell_type": "code",
      "source": [],
      "metadata": {
        "id": "EBu_kpS7bMO9"
      },
      "execution_count": null,
      "outputs": []
    }
  ]
}